{
  "cells": [
    {
      "cell_type": "markdown",
      "metadata": {
        "id": "64t_8Ex5Ee2e"
      },
      "source": [
        "# Классификация произведений писателей"
      ]
    },
    {
      "cell_type": "code",
      "execution_count": 82,
      "metadata": {
        "id": "e8O4-nPxEUqJ"
      },
      "outputs": [],
      "source": [
        "import numpy as np # Для работы с данными \n",
        "import matplotlib.pyplot as plt # Для вывода графиков\n",
        "import os # Для работы с файлами\n",
        "from config import Config\n",
        "%matplotlib inline\n",
        "\n",
        "from tensorflow.keras import utils # Для работы с категориальными данными\n",
        "from tensorflow.keras.models import Sequential # Полносвязная модель\n",
        "from tensorflow.keras.layers import Dense, Dropout, SpatialDropout1D, BatchNormalization, Flatten, Activation, Embedding # Слои для сети\n",
        "from tensorflow.keras.preprocessing.text import Tokenizer # Методы для работы с текстами\n",
        "from tensorflow.keras.preprocessing.sequence import pad_sequences # Метод для работы с последователь"
      ]
    },
    {
      "cell_type": "code",
      "execution_count": 83,
      "metadata": {
        "id": "P8W-qFO2MRY9"
      },
      "outputs": [],
      "source": [
        "# Загрузка данных файлов в списки \n",
        "trainWordIndexes = np.load(Config.TRAIN_WORD_INDEXES_FILENAME, allow_pickle=True)\n",
        "testWordIndexes = np.load(Config.TEST_WORD_INDEXES_FILENAME, allow_pickle=True)\n",
        "\n",
        "labels = [\"Достоевский\", \"Стругацкие\"] # Наши авторы\n",
        "labelsNum = len(labels)"
      ]
    },
    {
      "cell_type": "markdown",
      "metadata": {
        "id": "p8NaD-WcNwvF"
      },
      "source": [
        "Создаем xTrain и yTrain"
      ]
    },
    {
      "cell_type": "code",
      "execution_count": 84,
      "metadata": {
        "id": "dWRb5y5MNpR4"
      },
      "outputs": [],
      "source": [
        "# Формирование обучающей выборки по листу индексов слов\n",
        "# путем разделения на короткие векторы\n",
        "# wordIndexes - массив индексов\n",
        "# xLen - размер окна\n",
        "# step - шаг окна\n",
        "def getSetFromIndexes(wordIndexes, xLen, step):\n",
        "  xText = []\n",
        "  wordsLen = len(wordIndexes) # Считаем количество слов\n",
        "  index = 0 # Задаем начальный индекс \n",
        "\n",
        "  while (index + xLen <= wordsLen): # Идём по всей длине вектора индексов\n",
        "    xText.append(wordIndexes[index:index+xLen]) # \"Откусываем\" векторы длины xLen\n",
        "    index += step # Смещаеммся вперёд на step\n",
        "    \n",
        "  return xText\n",
        "\n",
        "\n",
        "# Формирование обучающей и проверочной выборки для каждого класса\n",
        "# wordIndexes - массив индексов\n",
        "# xLen - размер окна\n",
        "# step - шаг окна\n",
        "def createSetsMultiClasses(wordIndexes, xLen, step): # Функция принимает последовательность индексов, размер окна, шаг окна\n",
        "  nClasses = len(wordIndexes) # Количество классов\n",
        "  classesXSamples = []        # Здесь будет список размером \"кол-во классов*кол-во окон в тексте*длину окна (например, 6 по 1341*1000)\"\n",
        "  for wI in wordIndexes:      # Для каждого текста выборки из последовательности индексов\n",
        "    classesXSamples.append(getSetFromIndexes(wI, xLen, step))\n",
        "\n",
        "  # Формируем один общий xSamples\n",
        "  xSamples = []\n",
        "  ySamples = []\n",
        "  \n",
        "  for t in range(nClasses):\n",
        "    xT = classesXSamples[t]\n",
        "    for i in range(len(xT)): # Перебираем каждое окно определенного класса\n",
        "      xSamples.append(xT[i]) # Добавляем в общий список выборки\n",
        "      ySamples.append(utils.to_categorical(t, nClasses)) # Добавляем соответствующий вектор класса\n",
        "\n",
        "  xSamples = np.array(xSamples)\n",
        "  ySamples = np.array(ySamples)\n",
        "\n",
        "  \n",
        "  return (xSamples, ySamples)"
      ]
    },
    {
      "cell_type": "code",
      "execution_count": 85,
      "metadata": {
        "id": "nXWfO0zNO88J"
      },
      "outputs": [],
      "source": [
        "# Задаём базовые параметры\n",
        "xLen = 500 # Размер окна (количество слов в векторе)\n",
        "step = 60 # Шаг разбиения текста на векторы\n",
        "numWords = 20000"
      ]
    },
    {
      "cell_type": "code",
      "execution_count": 86,
      "metadata": {
        "colab": {
          "base_uri": "https://localhost:8080/"
        },
        "id": "yuczpcnjPAS2",
        "outputId": "7e389247-1e13-4379-d1c4-0b3e4988179c"
      },
      "outputs": [
        {
          "name": "stdout",
          "output_type": "stream",
          "text": [
            "Размерности тренировочного набора\n",
            "(6721, 500)\n",
            "(6721, 2)\n",
            "\n",
            "Размерности тестового набора\n",
            "(86, 500)\n",
            "(86, 2)\n"
          ]
        }
      ],
      "source": [
        "# Формируем обучающую и тестовую выборку\n",
        "xTrain, yTrain = createSetsMultiClasses(trainWordIndexes, xLen, step)\n",
        "xTest, yTest = createSetsMultiClasses(testWordIndexes, xLen, xLen)\n",
        "print(\"Размерности тренировочного набора\")\n",
        "print(xTrain.shape)\n",
        "print(yTrain.shape)\n",
        "print()\n",
        "print(\"Размерности тестового набора\")\n",
        "print(xTest.shape)\n",
        "print(yTest.shape)"
      ]
    },
    {
      "cell_type": "code",
      "execution_count": 87,
      "metadata": {
        "colab": {
          "base_uri": "https://localhost:8080/"
        },
        "id": "ndL5g2EyPqy7",
        "outputId": "25e6ac0b-c113-4497-96a6-ae779a8d5c77"
      },
      "outputs": [
        {
          "name": "stdout",
          "output_type": "stream",
          "text": [
            "[ 5748    69   652    16  8497  1554   223   249   381  3499     3  6461\n",
            "    30   124   255   303   336 16379     2   313   233  2400  1258   120\n",
            "    29   391    14     1    45 12534  4694     2  1324  8498    27  3733\n",
            "   846   298 16380 12535 16381   820    85   194   164  5168     2 16382\n",
            "  7346    66  2500     1   405 10161     3     2   232     1    27     1\n",
            "  5749 16383     1   280  1713   187  2911    44  1605     7    49  3084\n",
            "    27     2 16384 16385   298    62    23   129     1    51  1291     1\n",
            "  6461    22   406  8499  2615    29  1853     5    86   614  4015     4\n",
            "   124 10162    45  2291     4  1782    19  1478    27   138    21  2093\n",
            "  1186  5169   626   588   774  1854     1  8500     3   240 10163  3085\n",
            "  3499   250   271    29   156     5   774   501  6462  8501  6463  1029\n",
            "     2  5170    16   697   239    21  4695     3    13     6   447   711\n",
            "    29    19    34   517     2    91   293 10164  6464     9  1187 16386\n",
            "     3  1119  1783    45    19    34  1855    42  3303     2 16387    26\n",
            " 10162    59     1  1652   615     2 10165  1187 16386 16388   653     6\n",
            "    14  7346     6    14   712    23   109    11  1606   304    11  5750\n",
            "     2    92 12536 12537  1929     1  3304     1 16389    57    29  1853\n",
            "     5   698   124     1   205 10166    54     9    12   860   135     1\n",
            "  1394  8502    76    57     2    74  7346    10  1119  1783 16388   653\n",
            "  6465     1   871     4   871     1    17    18   328    75   124 10167\n",
            " 12537 10162     2  3500    21  1784     1   114   453  2501  1929 16390\n",
            "  5171 10168     2  7347     3  8503 10169   250   271    29   156     5\n",
            "    35   652     2 10165 10170     2   168 12538   135     3  4327   124\n",
            " 10171   226  1394    19   124  5751  5752     1    22  5753  3734    82\n",
            "    26 10162    59  1093     1   558   422  1030   197   286   951   261\n",
            "     5   774   123   654 16391   899    16  5172     3  7348  1714    11\n",
            "  4016    58   103 10171   287    75     1  1148    27   222     5  6466\n",
            "  7349    15    62  7350    62   427   746     4 12539    63   400     5\n",
            "     3  7351    12     4  2183    86    98   872     1     1    13  1555\n",
            "  3501  4696    69   652   187     6   990  1785     3  1479     2   699\n",
            "     1   153   381    76    37   747   256     7   409     3   316     5\n",
            "   774   358     6 10172  8497   249     1     1     3     9    36  3305\n",
            "     4  1782  3502    25   494    12  1259  3306  1395   518   214    50\n",
            "   333   711  2616  5173 12540    85 10173  1031   168  1607    36     8\n",
            " 16392  6467  1856  4328     7   616  5174 10161     3  7352   547 12541\n",
            "   559    17    49   627     6 12542    49  5175  8504     5     2    23\n",
            "   152  1396  6468  2184  1607  2616  5173  1786  8505  1397   748   664\n",
            "  6469 16393  6470     3 10174    14  2912    36    66   319  1149    71\n",
            "  3307  2616   588 16394    27 12543     8 12544     2  1787 16392   164\n",
            "    49  1929  6471  5176 16395     4   969     1    15    20  2401    49\n",
            "   205  3308  3735 12540    27  1291 16396    18   735  4697     3 16385\n",
            "   103     1   548   198   597   164    19  8506]\n"
          ]
        }
      ],
      "source": [
        "print(xTrain[0])"
      ]
    },
    {
      "cell_type": "code",
      "execution_count": 88,
      "metadata": {
        "colab": {
          "base_uri": "https://localhost:8080/"
        },
        "id": "cVDds6jKQGqs",
        "outputId": "3ccec199-8c46-4bd5-a8ed-c8ea3238cd71"
      },
      "outputs": [
        {
          "name": "stdout",
          "output_type": "stream",
          "text": [
            "Размерность обучайющей выборки\n",
            "(6721, 500)\n",
            "(6721, 2)\n",
            "\n",
            "Размерность тестовой выборки\n",
            "(86, 500)\n",
            "(86, 2)\n"
          ]
        }
      ],
      "source": [
        "print(\"Размерность обучайющей выборки\")\n",
        "print(xTrain.shape)\n",
        "print(yTrain.shape)\n",
        "\n",
        "print()\n",
        "\n",
        "print(\"Размерность тестовой выборки\")\n",
        "print(xTest.shape)\n",
        "print(yTest.shape)\n"
      ]
    },
    {
      "cell_type": "markdown",
      "metadata": {
        "id": "LKEckmaZQnkJ"
      },
      "source": [
        "Нейросеть для классификации текстов на базе Embedding"
      ]
    },
    {
      "cell_type": "code",
      "execution_count": 89,
      "metadata": {
        "colab": {
          "base_uri": "https://localhost:8080/"
        },
        "id": "l5jTU1JvQjzh",
        "outputId": "0cb837d2-38ee-4456-9c46-23f603afe66a"
      },
      "outputs": [
        {
          "name": "stdout",
          "output_type": "stream",
          "text": [
            "Model: \"sequential_7\"\n",
            "_________________________________________________________________\n",
            " Layer (type)                Output Shape              Param #   \n",
            "=================================================================\n",
            " embedding_7 (Embedding)     (None, 500, 10)           200000    \n",
            "                                                                 \n",
            " spatial_dropout1d_7 (Spatia  (None, 500, 10)          0         \n",
            " lDropout1D)                                                     \n",
            "                                                                 \n",
            " flatten_7 (Flatten)         (None, 5000)              0         \n",
            "                                                                 \n",
            " batch_normalization_7 (Batc  (None, 5000)             20000     \n",
            " hNormalization)                                                 \n",
            "                                                                 \n",
            " dense_7 (Dense)             (None, 2)                 10002     \n",
            "                                                                 \n",
            "=================================================================\n",
            "Total params: 230,002\n",
            "Trainable params: 220,002\n",
            "Non-trainable params: 10,000\n",
            "_________________________________________________________________\n"
          ]
        }
      ],
      "source": [
        "# Создаём полносвязную сеть\n",
        "model = Sequential()\n",
        "model.add(Embedding(numWords, 10, input_length=xLen))\n",
        "model.add(SpatialDropout1D(0.20))\n",
        "model.add(Flatten())\n",
        "model.add(BatchNormalization())\n",
        "model.add(Dense(2, activation='softmax'))\n",
        "\n",
        "model.compile(optimizer='adam', \n",
        "              loss='categorical_crossentropy', \n",
        "              metrics=['accuracy'])\n",
        "\n",
        "model.summary()"
      ]
    },
    {
      "cell_type": "code",
      "execution_count": 79,
      "metadata": {
        "colab": {
          "base_uri": "https://localhost:8080/"
        },
        "id": "kw0fZMnGQ3TE",
        "outputId": "f38c86a5-ca8b-4d69-dfa6-38cfaf44f6ff"
      },
      "outputs": [
        {
          "name": "stdout",
          "output_type": "stream",
          "text": [
            "Epoch 1/20\n",
            "84/84 [==============================] - 2s 13ms/step - loss: 0.1568 - accuracy: 0.9355 - val_loss: 4.2961 - val_accuracy: 0.2914\n",
            "Epoch 2/20\n",
            "84/84 [==============================] - 1s 12ms/step - loss: 0.0055 - accuracy: 0.9994 - val_loss: 5.3114 - val_accuracy: 0.2914\n",
            "Epoch 3/20\n",
            "84/84 [==============================] - 1s 12ms/step - loss: 0.0013 - accuracy: 1.0000 - val_loss: 5.7586 - val_accuracy: 0.2914\n",
            "Epoch 4/20\n",
            "84/84 [==============================] - 1s 11ms/step - loss: 7.1966e-04 - accuracy: 1.0000 - val_loss: 6.0858 - val_accuracy: 0.2914\n",
            "Epoch 5/20\n",
            "84/84 [==============================] - 2s 22ms/step - loss: 4.4400e-04 - accuracy: 1.0000 - val_loss: 6.3326 - val_accuracy: 0.2914\n",
            "Epoch 6/20\n",
            "84/84 [==============================] - 2s 26ms/step - loss: 3.2234e-04 - accuracy: 1.0000 - val_loss: 6.5445 - val_accuracy: 0.2914\n",
            "Epoch 7/20\n",
            "84/84 [==============================] - 2s 22ms/step - loss: 2.4477e-04 - accuracy: 1.0000 - val_loss: 6.7300 - val_accuracy: 0.2914\n",
            "Epoch 8/20\n",
            "84/84 [==============================] - 1s 16ms/step - loss: 1.9223e-04 - accuracy: 1.0000 - val_loss: 6.9003 - val_accuracy: 0.2914\n",
            "Epoch 9/20\n",
            "84/84 [==============================] - 1s 16ms/step - loss: 1.5494e-04 - accuracy: 1.0000 - val_loss: 7.0483 - val_accuracy: 0.2914\n",
            "Epoch 10/20\n",
            "84/84 [==============================] - 1s 17ms/step - loss: 1.2315e-04 - accuracy: 1.0000 - val_loss: 7.1707 - val_accuracy: 0.2914\n",
            "Epoch 11/20\n",
            "84/84 [==============================] - 1s 14ms/step - loss: 1.0601e-04 - accuracy: 1.0000 - val_loss: 7.2963 - val_accuracy: 0.2914\n",
            "Epoch 12/20\n",
            "84/84 [==============================] - 1s 15ms/step - loss: 8.9739e-05 - accuracy: 1.0000 - val_loss: 7.3993 - val_accuracy: 0.2914\n",
            "Epoch 13/20\n",
            "84/84 [==============================] - 1s 15ms/step - loss: 7.7707e-05 - accuracy: 1.0000 - val_loss: 7.5058 - val_accuracy: 0.2914\n",
            "Epoch 14/20\n",
            "84/84 [==============================] - 1s 15ms/step - loss: 6.6858e-05 - accuracy: 1.0000 - val_loss: 7.6036 - val_accuracy: 0.2914\n",
            "Epoch 15/20\n",
            "84/84 [==============================] - 1s 16ms/step - loss: 5.7991e-05 - accuracy: 1.0000 - val_loss: 7.6848 - val_accuracy: 0.2914\n",
            "Epoch 16/20\n",
            "84/84 [==============================] - 1s 15ms/step - loss: 5.4103e-05 - accuracy: 1.0000 - val_loss: 7.7728 - val_accuracy: 0.2914\n",
            "Epoch 17/20\n",
            "84/84 [==============================] - 1s 15ms/step - loss: 4.6111e-05 - accuracy: 1.0000 - val_loss: 7.8642 - val_accuracy: 0.2914\n",
            "Epoch 18/20\n",
            "84/84 [==============================] - 1s 16ms/step - loss: 4.1598e-05 - accuracy: 1.0000 - val_loss: 7.9525 - val_accuracy: 0.2914\n",
            "Epoch 19/20\n",
            "84/84 [==============================] - 1s 15ms/step - loss: 3.6513e-05 - accuracy: 1.0000 - val_loss: 8.0252 - val_accuracy: 0.2914\n",
            "Epoch 20/20\n",
            "84/84 [==============================] - 1s 15ms/step - loss: 3.3246e-05 - accuracy: 1.0000 - val_loss: 8.0941 - val_accuracy: 0.2914\n"
          ]
        }
      ],
      "source": [
        "# Обучаем сеть\n",
        "history = model.fit(xTrain, \n",
        "                    yTrain, \n",
        "                    epochs=20,\n",
        "                    batch_size=64,\n",
        "                    validation_split=0.2)"
      ]
    },
    {
      "cell_type": "code",
      "execution_count": 80,
      "metadata": {
        "colab": {
          "base_uri": "https://localhost:8080/",
          "height": 279
        },
        "id": "H3Sakk0YQ7j4",
        "outputId": "f1b3bc58-8aec-4db4-f22f-d4c9cd4f7d1e"
      },
      "outputs": [
        {
          "data": {
            "image/png": "[encoded data removed]",
            "text/plain": [
              "<Figure size 432x288 with 1 Axes>"
            ]
          },
          "metadata": {
            "needs_background": "light"
          },
          "output_type": "display_data"
        }
      ],
      "source": [
        "# Результаты обучения\n",
        "plt.plot(history.history['accuracy'], \n",
        "         label='Доля верных ответов на обучающем наборе')\n",
        "plt.plot(history.history['val_accuracy'], \n",
        "         label='Доля верных ответов на проверочном наборе')\n",
        "plt.xlabel('Эпоха обучения')\n",
        "plt.ylabel('Доля верных ответов')\n",
        "plt.legend()\n",
        "plt.show()"
      ]
    },
    {
      "cell_type": "markdown",
      "metadata": {
        "id": "1jgZwyDwRTVN"
      },
      "source": [
        "Проверяем работу обученной нейросети"
      ]
    },
    {
      "cell_type": "code",
      "execution_count": 81,
      "metadata": {
        "colab": {
          "base_uri": "https://localhost:8080/"
        },
        "id": "N4Nip_hUS1T9",
        "outputId": "8087c578-100f-4156-d78c-6cd678a8239c"
      },
      "outputs": [
        {
          "name": "stdout",
          "output_type": "stream",
          "text": [
            "(86, 2)\n",
            "(86,)\n",
            "(86,)\n",
            "\n",
            "Точность распознавания текстов писателей\n",
            "Достоевский :  20 из  20 - 100.00%\n",
            "Стругацкие  :   0 из  66 - 0.00%\n"
          ]
        }
      ],
      "source": [
        "# Проверяем точность на тестовой выборке\n",
        "\n",
        "rightAnswer = [0,0,0,0,0,0]\n",
        "totalAnswer = [0,0,0,0,0,0]\n",
        "\n",
        "# Получаем результаты распознавания для каждого класса\n",
        "currPred = model.predict(xTest)\n",
        "# Определяем номер распознанного класса для каждохо вектора\n",
        "currOut = np.argmax(currPred, axis=1)\n",
        "# Определяем правильный класс для каждохо вектора\n",
        "yOut = np.argmax(yTest, axis=1)\n",
        "\n",
        "print(currPred.shape)\n",
        "print(currOut.shape)\n",
        "print(yOut.shape)\n",
        "print()\n",
        "\n",
        "\n",
        "# Считаем сколько ответов всего и сколько из них правильных\n",
        "for i in range(len(yOut)):\n",
        "  predictA = currOut[i]\n",
        "  rightA   = yOut[i]\n",
        "\n",
        "  totalAnswer[rightA] += 1\n",
        "  if predictA == rightA:\n",
        "    rightAnswer[rightA] += 1\n",
        "\n",
        "# Подсчитываем точность классификации\n",
        "print(\"Точность распознавания текстов писателей\")\n",
        "for i in range(labelsNum):\n",
        "  RTAnswer = 0 if rightAnswer[i] == 0 else (rightAnswer[i]/totalAnswer[i]*100)\n",
        "  print(\"{:12s}: {:3d} из {:3d} - {:3.2f}%\".format(labels[i], rightAnswer[i], totalAnswer[i], RTAnswer))"
      ]
    }
  ],
  "metadata": {
    "accelerator": "GPU",
    "colab": {
      "collapsed_sections": [],
      "name": "Копия блокнота \"IThub - ML - 10 - Embedding\"",
      "provenance": []
    },
    "kernelspec": {
      "display_name": "Python 3",
      "name": "python3"
    },
    "language_info": {
      "codemirror_mode": {
        "name": "ipython",
        "version": 3
      },
      "file_extension": ".py",
      "mimetype": "text/x-python",
      "name": "python",
      "nbconvert_exporter": "python",
      "pygments_lexer": "ipython3",
      "version": "3.8.9"
    }
  },
  "nbformat": 4,
  "nbformat_minor": 0
}
